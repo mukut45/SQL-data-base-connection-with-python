{
 "cells": [
  {
   "cell_type": "code",
   "execution_count": 1,
   "id": "6019cf60-217d-44fa-9203-fcab1cd9b889",
   "metadata": {},
   "outputs": [
    {
     "name": "stdout",
     "output_type": "stream",
     "text": [
      "['SQL Server', 'SQL Server Native Client RDA 11.0', 'ODBC Driver 17 for SQL Server']\n"
     ]
    }
   ],
   "source": [
    "import pyodbc\n",
    "print(pyodbc.drivers()) # to check all the sql driver in the computer"
   ]
  },
  {
   "cell_type": "code",
   "execution_count": 19,
   "id": "539bb40a-9a1c-4628-a13d-6bd47c6d5063",
   "metadata": {},
   "outputs": [
    {
     "name": "stdout",
     "output_type": "stream",
     "text": [
      "   Dept_NAME  Contact_no\n",
      "0      Sales         110\n",
      "1         HR         114\n",
      "2  Acounting         113\n"
     ]
    },
    {
     "name": "stderr",
     "output_type": "stream",
     "text": [
      "C:\\Users\\Dell\\AppData\\Local\\Temp\\ipykernel_5628\\131114980.py:12: UserWarning: pandas only supports SQLAlchemy connectable (engine/connection) or database string URI or sqlite3 DBAPI2 connection. Other DBAPI2 objects are not tested. Please consider using SQLAlchemy.\n",
      "  df = pd.read_sql(query, conn)\n"
     ]
    }
   ],
   "source": [
    "import pandas as pd\n",
    "import pyodbc #odbc - open database connectivity\n",
    "conn = pyodbc.connect(\n",
    "    \"Driver={ODBC Driver 17 for SQL Server};\" # sql server driver\n",
    "    \"Server=DESKTOP-PNNUK7T;\" # my server name\n",
    "    \"Database=Employee;\" # my data base name\n",
    "    \"Trusted_Connection=yes;\" # if we are using windows authentication\n",
    ")\n",
    "\n",
    "# If we are using the sql authetication with User ID (UID) and Passwors (PWD), then the below code format works\n",
    "\n",
    "# conn = pyodbc.connect(\n",
    "#     \"Driver={ODBC Driver 17 for SQL Server};\"\n",
    "#     \"Server=YOUR_SERVER_NAME;\"\n",
    "#     \"Database=YOUR_DATABASE_NAME;\"\n",
    "#     \"UID=your_username;\"\n",
    "#     \"PWD=your_password;\"\n",
    "# )\n",
    "\n",
    "\n",
    "query = \"SELECT Dept_NAME, Contact_no FROM Department\" # writin the sql query here\n",
    "\n",
    "df = pd.read_sql(query, conn)\n",
    "print(df.head())"
   ]
  },
  {
   "cell_type": "code",
   "execution_count": 15,
   "id": "f15b5a99-c331-482c-a685-6687054bc4d0",
   "metadata": {},
   "outputs": [
    {
     "data": {
      "text/plain": [
       "Dept_NAME     0\n",
       "Contact_no    0\n",
       "dtype: int64"
      ]
     },
     "execution_count": 15,
     "metadata": {},
     "output_type": "execute_result"
    }
   ],
   "source": [
    "df.isnull().sum() # we can start the data cleanig here"
   ]
  },
  {
   "cell_type": "markdown",
   "id": "c69e5933-cccd-47cd-ad3d-d42156c45c85",
   "metadata": {},
   "source": [
    "## API database connection"
   ]
  },
  {
   "cell_type": "code",
   "execution_count": null,
   "id": "a791f898-441d-4718-a006-43bcb04a935f",
   "metadata": {},
   "outputs": [],
   "source": [
    "# import requests\n",
    "# import pandas as pd\n",
    "\n",
    "# response = requests.get(\"http link form the crm admin\", header = {\"Authentiacation\" : Bearer \"TOKEN\"}) # this all will get from the CRM admin\n",
    "# json_data = response.json() # converting the data into json\n",
    "# records = json_data['data'] # extrect the the data part which contains the lead\n",
    "# df = pd.Dataframe(records) # converting the json into pandas dataframe\n",
    "# print(df.head()) # now the expected output will be in the structure form like a tabular data"
   ]
  },
  {
   "cell_type": "markdown",
   "id": "1b1a7698-6093-4380-9d76-946461002b2d",
   "metadata": {},
   "source": [
    "## write sql database connection for prectice"
   ]
  },
  {
   "cell_type": "code",
   "execution_count": null,
   "id": "6638579e-0fc1-4db2-ab8e-502405f9e497",
   "metadata": {},
   "outputs": [],
   "source": [
    "import pyodbc\n",
    "import pandas as pd\n",
    "\n",
    "conn = (\n",
    "    \"Driver = {Driver detail};\"\n",
    "    \"Server = server details;\"\n",
    "    \"Database = database details;\"\n",
    "    \"Trusted_connection= yes\" # Authentication details\n",
    ")\n",
    "query = \"SELECT column_name, column_name2 FROM Table\"\n",
    "\n",
    "df = pd.read_sql(query, conn)\n",
    "print(df.head())"
   ]
  },
  {
   "cell_type": "markdown",
   "id": "931c5070-a207-49c2-8a6c-21be7bbaa9e8",
   "metadata": {},
   "source": [
    "## Write the script to connect with API of CRM for practic"
   ]
  },
  {
   "cell_type": "code",
   "execution_count": null,
   "id": "2034f1ea-6c19-4d7b-bbf9-a4c16764285b",
   "metadata": {},
   "outputs": [],
   "source": [
    "import requests\n",
    "import pandas\n",
    "\n",
    "connection = requests.get(\"http link of crm api\",header = {\"Authentication\" : Bearer \"TOKEN\"}) # this details will get from the CRM admin\n",
    "json_file = connection.json() # data trasfoemation done to json from crm data\n",
    "records = json_file['data'] # extract the data part from the json file\n",
    "df = pd.Dataframe(records)  # json file to pandas dataframe to make it structured\n",
    "print(df.head()) # Now we can expect the tabular form data here"
   ]
  },
  {
   "cell_type": "code",
   "execution_count": 31,
   "id": "8940e57f-0125-4a0b-a9b0-b804f5a9db20",
   "metadata": {},
   "outputs": [
    {
     "data": {
      "text/html": [
       "<div>\n",
       "<style scoped>\n",
       "    .dataframe tbody tr th:only-of-type {\n",
       "        vertical-align: middle;\n",
       "    }\n",
       "\n",
       "    .dataframe tbody tr th {\n",
       "        vertical-align: top;\n",
       "    }\n",
       "\n",
       "    .dataframe thead th {\n",
       "        text-align: right;\n",
       "    }\n",
       "</style>\n",
       "<table border=\"1\" class=\"dataframe\">\n",
       "  <thead>\n",
       "    <tr style=\"text-align: right;\">\n",
       "      <th></th>\n",
       "      <th>id</th>\n",
       "      <th>name</th>\n",
       "      <th>email</th>\n",
       "      <th>created_at</th>\n",
       "      <th>address.city</th>\n",
       "      <th>address.state</th>\n",
       "    </tr>\n",
       "  </thead>\n",
       "  <tbody>\n",
       "    <tr>\n",
       "      <th>0</th>\n",
       "      <td>1001</td>\n",
       "      <td>John Doe</td>\n",
       "      <td>john@example.com</td>\n",
       "      <td>2025-07-01T12:00:00Z</td>\n",
       "      <td>Delhi</td>\n",
       "      <td>Delhi</td>\n",
       "    </tr>\n",
       "    <tr>\n",
       "      <th>1</th>\n",
       "      <td>1002</td>\n",
       "      <td>Jane Smith</td>\n",
       "      <td>jane@example.com</td>\n",
       "      <td>2025-07-02T12:00:00Z</td>\n",
       "      <td>Mumbai</td>\n",
       "      <td>Maharashtra</td>\n",
       "    </tr>\n",
       "  </tbody>\n",
       "</table>\n",
       "</div>"
      ],
      "text/plain": [
       "     id        name             email            created_at address.city  \\\n",
       "0  1001    John Doe  john@example.com  2025-07-01T12:00:00Z        Delhi   \n",
       "1  1002  Jane Smith  jane@example.com  2025-07-02T12:00:00Z       Mumbai   \n",
       "\n",
       "  address.state  \n",
       "0         Delhi  \n",
       "1   Maharashtra  "
      ]
     },
     "execution_count": 31,
     "metadata": {},
     "output_type": "execute_result"
    }
   ],
   "source": [
    "import pandas as pd\n",
    "import requests\n",
    "\n",
    "# Simulated CRM API response\n",
    "data = {\n",
    "    \"leads\": [\n",
    "        {\n",
    "            \"id\": \"1001\",\n",
    "            \"name\": \"John Doe\",\n",
    "            \"email\": \"john@example.com\",\n",
    "            \"created_at\": \"2025-07-01T12:00:00Z\",\n",
    "            \"address\": {\"city\": \"Delhi\", \"state\": \"Delhi\"}\n",
    "        },\n",
    "        {\n",
    "            \"id\": \"1002\",\n",
    "            \"name\": \"Jane Smith\",\n",
    "            \"email\": \"jane@example.com\",\n",
    "            \"created_at\": \"2025-07-02T12:00:00Z\",\n",
    "            \"address\": {\"city\": \"Mumbai\", \"state\": \"Maharashtra\"}\n",
    "        }\n",
    "    ]\n",
    "}\n",
    "\n",
    "df = pd.json_normalize(data['leads']) # json_normalize is the flatining function from json data to structured tabular data\n",
    "df.head()"
   ]
  },
  {
   "cell_type": "code",
   "execution_count": null,
   "id": "170345d0-0347-488a-a849-7011781abb6b",
   "metadata": {},
   "outputs": [],
   "source": []
  }
 ],
 "metadata": {
  "kernelspec": {
   "display_name": "Python 3 (ipykernel)",
   "language": "python",
   "name": "python3"
  },
  "language_info": {
   "codemirror_mode": {
    "name": "ipython",
    "version": 3
   },
   "file_extension": ".py",
   "mimetype": "text/x-python",
   "name": "python",
   "nbconvert_exporter": "python",
   "pygments_lexer": "ipython3",
   "version": "3.12.4"
  }
 },
 "nbformat": 4,
 "nbformat_minor": 5
}
