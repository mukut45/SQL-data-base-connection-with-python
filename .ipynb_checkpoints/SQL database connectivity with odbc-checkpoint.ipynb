{
 "cells": [
  {
   "cell_type": "code",
   "execution_count": 1,
   "id": "6019cf60-217d-44fa-9203-fcab1cd9b889",
   "metadata": {},
   "outputs": [
    {
     "name": "stdout",
     "output_type": "stream",
     "text": [
      "['SQL Server', 'SQL Server Native Client RDA 11.0', 'ODBC Driver 17 for SQL Server']\n"
     ]
    }
   ],
   "source": [
    "import pyodbc\n",
    "print(pyodbc.drivers()) # to check all the sql driver in the computer"
   ]
  },
  {
   "cell_type": "code",
   "execution_count": 19,
   "id": "539bb40a-9a1c-4628-a13d-6bd47c6d5063",
   "metadata": {},
   "outputs": [
    {
     "name": "stdout",
     "output_type": "stream",
     "text": [
      "   Dept_NAME  Contact_no\n",
      "0      Sales         110\n",
      "1         HR         114\n",
      "2  Acounting         113\n"
     ]
    },
    {
     "name": "stderr",
     "output_type": "stream",
     "text": [
      "C:\\Users\\Dell\\AppData\\Local\\Temp\\ipykernel_5628\\131114980.py:12: UserWarning: pandas only supports SQLAlchemy connectable (engine/connection) or database string URI or sqlite3 DBAPI2 connection. Other DBAPI2 objects are not tested. Please consider using SQLAlchemy.\n",
      "  df = pd.read_sql(query, conn)\n"
     ]
    }
   ],
   "source": [
    "import pandas as pd\n",
    "import pyodbc #odbc - open database connectivity\n",
    "conn = pyodbc.connect(\n",
    "    \"Driver={ODBC Driver 17 for SQL Server};\" # sql server driver\n",
    "    \"Server=DESKTOP-PNNUK7T;\" # my server name\n",
    "    \"Database=Employee;\" # my data base name\n",
    "    \"Trusted_Connection=yes;\" # if we are using windows authentication\n",
    ")\n",
    "\n",
    "# If we are using the sql authetication with User ID (UID) and Passwors (PWD), then the below code format works\n",
    "\n",
    "# conn = pyodbc.connect(\n",
    "#     \"Driver={ODBC Driver 17 for SQL Server};\"\n",
    "#     \"Server=YOUR_SERVER_NAME;\"\n",
    "#     \"Database=YOUR_DATABASE_NAME;\"\n",
    "#     \"UID=your_username;\"\n",
    "#     \"PWD=your_password;\"\n",
    "# )\n",
    "\n",
    "\n",
    "query = \"SELECT Dept_NAME, Contact_no FROM Department\" # writin the sql query here\n",
    "\n",
    "df = pd.read_sql(query, conn)\n",
    "print(df.head())"
   ]
  },
  {
   "cell_type": "code",
   "execution_count": 15,
   "id": "f15b5a99-c331-482c-a685-6687054bc4d0",
   "metadata": {},
   "outputs": [
    {
     "data": {
      "text/plain": [
       "Dept_NAME     0\n",
       "Contact_no    0\n",
       "dtype: int64"
      ]
     },
     "execution_count": 15,
     "metadata": {},
     "output_type": "execute_result"
    }
   ],
   "source": [
    "df.isnull().sum() # we can start the data cleanig here"
   ]
  },
  {
   "cell_type": "markdown",
   "id": "c69e5933-cccd-47cd-ad3d-d42156c45c85",
   "metadata": {},
   "source": [
    "## API database connection"
   ]
  },
  {
   "cell_type": "code",
   "execution_count": null,
   "id": "a791f898-441d-4718-a006-43bcb04a935f",
   "metadata": {},
   "outputs": [],
   "source": [
    "import requests\n",
    "import pandas as pd\n",
    "\n",
    "response = requests.get(\"http link form the crm admin\", header = {\"Authentiacation\" : Bearer \"TOKEN\"}) # this all will get from the CRM admin\n",
    "json_data = response.json()\n",
    "records = json_data['data'] # extrect the the data part which contains the lead\n",
    "df = pd.Dataframe(records)\n",
    "print(df.head()) # now the expected output will be in the structure form \n"
   ]
  }
 ],
 "metadata": {
  "kernelspec": {
   "display_name": "Python 3 (ipykernel)",
   "language": "python",
   "name": "python3"
  },
  "language_info": {
   "codemirror_mode": {
    "name": "ipython",
    "version": 3
   },
   "file_extension": ".py",
   "mimetype": "text/x-python",
   "name": "python",
   "nbconvert_exporter": "python",
   "pygments_lexer": "ipython3",
   "version": "3.12.4"
  }
 },
 "nbformat": 4,
 "nbformat_minor": 5
}
